{
 "cells": [
  {
   "cell_type": "markdown",
   "id": "32ae1842-4ae5-41aa-90b9-4619a7884b76",
   "metadata": {},
   "source": [
    "### Import necessary Libraries "
   ]
  },
  {
   "cell_type": "code",
   "execution_count": 1,
   "id": "225dfcbb-cdf0-437a-a790-e32c36c08514",
   "metadata": {},
   "outputs": [],
   "source": [
    "import numpy as np\n",
    "import pandas as pd\n",
    "import matplotlib.pyplot as plt\n",
    "import seaborn as sns"
   ]
  },
  {
   "cell_type": "code",
   "execution_count": 2,
   "id": "51f20d4e-c3ec-43c3-9a4d-5c0b0bc709d9",
   "metadata": {
    "scrolled": true
   },
   "outputs": [
    {
     "data": {
      "text/html": [
       "<div>\n",
       "<style scoped>\n",
       "    .dataframe tbody tr th:only-of-type {\n",
       "        vertical-align: middle;\n",
       "    }\n",
       "\n",
       "    .dataframe tbody tr th {\n",
       "        vertical-align: top;\n",
       "    }\n",
       "\n",
       "    .dataframe thead th {\n",
       "        text-align: right;\n",
       "    }\n",
       "</style>\n",
       "<table border=\"1\" class=\"dataframe\">\n",
       "  <thead>\n",
       "    <tr style=\"text-align: right;\">\n",
       "      <th></th>\n",
       "      <th>Id</th>\n",
       "      <th>EmployeeName</th>\n",
       "      <th>JobTitle</th>\n",
       "      <th>BasePay</th>\n",
       "      <th>OvertimePay</th>\n",
       "      <th>OtherPay</th>\n",
       "      <th>Benefits</th>\n",
       "      <th>TotalPay</th>\n",
       "      <th>TotalPayBenefits</th>\n",
       "      <th>Year</th>\n",
       "      <th>Notes</th>\n",
       "      <th>Agency</th>\n",
       "      <th>Status</th>\n",
       "    </tr>\n",
       "  </thead>\n",
       "  <tbody>\n",
       "    <tr>\n",
       "      <th>0</th>\n",
       "      <td>1</td>\n",
       "      <td>NATHANIEL FORD</td>\n",
       "      <td>GENERAL MANAGER-METROPOLITAN TRANSIT AUTHORITY</td>\n",
       "      <td>167411.18</td>\n",
       "      <td>0.00</td>\n",
       "      <td>400184.25</td>\n",
       "      <td>NaN</td>\n",
       "      <td>567595.43</td>\n",
       "      <td>567595.43</td>\n",
       "      <td>2011</td>\n",
       "      <td>NaN</td>\n",
       "      <td>San Francisco</td>\n",
       "      <td>NaN</td>\n",
       "    </tr>\n",
       "    <tr>\n",
       "      <th>1</th>\n",
       "      <td>2</td>\n",
       "      <td>GARY JIMENEZ</td>\n",
       "      <td>CAPTAIN III (POLICE DEPARTMENT)</td>\n",
       "      <td>155966.02</td>\n",
       "      <td>245131.88</td>\n",
       "      <td>137811.38</td>\n",
       "      <td>NaN</td>\n",
       "      <td>538909.28</td>\n",
       "      <td>538909.28</td>\n",
       "      <td>2011</td>\n",
       "      <td>NaN</td>\n",
       "      <td>San Francisco</td>\n",
       "      <td>NaN</td>\n",
       "    </tr>\n",
       "    <tr>\n",
       "      <th>2</th>\n",
       "      <td>3</td>\n",
       "      <td>ALBERT PARDINI</td>\n",
       "      <td>CAPTAIN III (POLICE DEPARTMENT)</td>\n",
       "      <td>212739.13</td>\n",
       "      <td>106088.18</td>\n",
       "      <td>16452.60</td>\n",
       "      <td>NaN</td>\n",
       "      <td>335279.91</td>\n",
       "      <td>335279.91</td>\n",
       "      <td>2011</td>\n",
       "      <td>NaN</td>\n",
       "      <td>San Francisco</td>\n",
       "      <td>NaN</td>\n",
       "    </tr>\n",
       "    <tr>\n",
       "      <th>3</th>\n",
       "      <td>4</td>\n",
       "      <td>CHRISTOPHER CHONG</td>\n",
       "      <td>WIRE ROPE CABLE MAINTENANCE MECHANIC</td>\n",
       "      <td>77916.00</td>\n",
       "      <td>56120.71</td>\n",
       "      <td>198306.90</td>\n",
       "      <td>NaN</td>\n",
       "      <td>332343.61</td>\n",
       "      <td>332343.61</td>\n",
       "      <td>2011</td>\n",
       "      <td>NaN</td>\n",
       "      <td>San Francisco</td>\n",
       "      <td>NaN</td>\n",
       "    </tr>\n",
       "    <tr>\n",
       "      <th>4</th>\n",
       "      <td>5</td>\n",
       "      <td>PATRICK GARDNER</td>\n",
       "      <td>DEPUTY CHIEF OF DEPARTMENT,(FIRE DEPARTMENT)</td>\n",
       "      <td>134401.60</td>\n",
       "      <td>9737.00</td>\n",
       "      <td>182234.59</td>\n",
       "      <td>NaN</td>\n",
       "      <td>326373.19</td>\n",
       "      <td>326373.19</td>\n",
       "      <td>2011</td>\n",
       "      <td>NaN</td>\n",
       "      <td>San Francisco</td>\n",
       "      <td>NaN</td>\n",
       "    </tr>\n",
       "    <tr>\n",
       "      <th>...</th>\n",
       "      <td>...</td>\n",
       "      <td>...</td>\n",
       "      <td>...</td>\n",
       "      <td>...</td>\n",
       "      <td>...</td>\n",
       "      <td>...</td>\n",
       "      <td>...</td>\n",
       "      <td>...</td>\n",
       "      <td>...</td>\n",
       "      <td>...</td>\n",
       "      <td>...</td>\n",
       "      <td>...</td>\n",
       "      <td>...</td>\n",
       "    </tr>\n",
       "    <tr>\n",
       "      <th>148649</th>\n",
       "      <td>148650</td>\n",
       "      <td>Roy I Tillery</td>\n",
       "      <td>Custodian</td>\n",
       "      <td>0.00</td>\n",
       "      <td>0.00</td>\n",
       "      <td>0.00</td>\n",
       "      <td>0.0</td>\n",
       "      <td>0.00</td>\n",
       "      <td>0.00</td>\n",
       "      <td>2014</td>\n",
       "      <td>NaN</td>\n",
       "      <td>San Francisco</td>\n",
       "      <td>NaN</td>\n",
       "    </tr>\n",
       "    <tr>\n",
       "      <th>148650</th>\n",
       "      <td>148651</td>\n",
       "      <td>Not provided</td>\n",
       "      <td>Not provided</td>\n",
       "      <td>NaN</td>\n",
       "      <td>NaN</td>\n",
       "      <td>NaN</td>\n",
       "      <td>NaN</td>\n",
       "      <td>0.00</td>\n",
       "      <td>0.00</td>\n",
       "      <td>2014</td>\n",
       "      <td>NaN</td>\n",
       "      <td>San Francisco</td>\n",
       "      <td>NaN</td>\n",
       "    </tr>\n",
       "    <tr>\n",
       "      <th>148651</th>\n",
       "      <td>148652</td>\n",
       "      <td>Not provided</td>\n",
       "      <td>Not provided</td>\n",
       "      <td>NaN</td>\n",
       "      <td>NaN</td>\n",
       "      <td>NaN</td>\n",
       "      <td>NaN</td>\n",
       "      <td>0.00</td>\n",
       "      <td>0.00</td>\n",
       "      <td>2014</td>\n",
       "      <td>NaN</td>\n",
       "      <td>San Francisco</td>\n",
       "      <td>NaN</td>\n",
       "    </tr>\n",
       "    <tr>\n",
       "      <th>148652</th>\n",
       "      <td>148653</td>\n",
       "      <td>Not provided</td>\n",
       "      <td>Not provided</td>\n",
       "      <td>NaN</td>\n",
       "      <td>NaN</td>\n",
       "      <td>NaN</td>\n",
       "      <td>NaN</td>\n",
       "      <td>0.00</td>\n",
       "      <td>0.00</td>\n",
       "      <td>2014</td>\n",
       "      <td>NaN</td>\n",
       "      <td>San Francisco</td>\n",
       "      <td>NaN</td>\n",
       "    </tr>\n",
       "    <tr>\n",
       "      <th>148653</th>\n",
       "      <td>148654</td>\n",
       "      <td>Joe Lopez</td>\n",
       "      <td>Counselor, Log Cabin Ranch</td>\n",
       "      <td>0.00</td>\n",
       "      <td>0.00</td>\n",
       "      <td>-618.13</td>\n",
       "      <td>0.0</td>\n",
       "      <td>-618.13</td>\n",
       "      <td>-618.13</td>\n",
       "      <td>2014</td>\n",
       "      <td>NaN</td>\n",
       "      <td>San Francisco</td>\n",
       "      <td>NaN</td>\n",
       "    </tr>\n",
       "  </tbody>\n",
       "</table>\n",
       "<p>148654 rows × 13 columns</p>\n",
       "</div>"
      ],
      "text/plain": [
       "            Id       EmployeeName  \\\n",
       "0            1     NATHANIEL FORD   \n",
       "1            2       GARY JIMENEZ   \n",
       "2            3     ALBERT PARDINI   \n",
       "3            4  CHRISTOPHER CHONG   \n",
       "4            5    PATRICK GARDNER   \n",
       "...        ...                ...   \n",
       "148649  148650      Roy I Tillery   \n",
       "148650  148651       Not provided   \n",
       "148651  148652       Not provided   \n",
       "148652  148653       Not provided   \n",
       "148653  148654          Joe Lopez   \n",
       "\n",
       "                                              JobTitle    BasePay  \\\n",
       "0       GENERAL MANAGER-METROPOLITAN TRANSIT AUTHORITY  167411.18   \n",
       "1                      CAPTAIN III (POLICE DEPARTMENT)  155966.02   \n",
       "2                      CAPTAIN III (POLICE DEPARTMENT)  212739.13   \n",
       "3                 WIRE ROPE CABLE MAINTENANCE MECHANIC   77916.00   \n",
       "4         DEPUTY CHIEF OF DEPARTMENT,(FIRE DEPARTMENT)  134401.60   \n",
       "...                                                ...        ...   \n",
       "148649                                       Custodian       0.00   \n",
       "148650                                    Not provided        NaN   \n",
       "148651                                    Not provided        NaN   \n",
       "148652                                    Not provided        NaN   \n",
       "148653                      Counselor, Log Cabin Ranch       0.00   \n",
       "\n",
       "        OvertimePay   OtherPay  Benefits   TotalPay  TotalPayBenefits  Year  \\\n",
       "0              0.00  400184.25       NaN  567595.43         567595.43  2011   \n",
       "1         245131.88  137811.38       NaN  538909.28         538909.28  2011   \n",
       "2         106088.18   16452.60       NaN  335279.91         335279.91  2011   \n",
       "3          56120.71  198306.90       NaN  332343.61         332343.61  2011   \n",
       "4           9737.00  182234.59       NaN  326373.19         326373.19  2011   \n",
       "...             ...        ...       ...        ...               ...   ...   \n",
       "148649         0.00       0.00       0.0       0.00              0.00  2014   \n",
       "148650          NaN        NaN       NaN       0.00              0.00  2014   \n",
       "148651          NaN        NaN       NaN       0.00              0.00  2014   \n",
       "148652          NaN        NaN       NaN       0.00              0.00  2014   \n",
       "148653         0.00    -618.13       0.0    -618.13           -618.13  2014   \n",
       "\n",
       "        Notes         Agency  Status  \n",
       "0         NaN  San Francisco     NaN  \n",
       "1         NaN  San Francisco     NaN  \n",
       "2         NaN  San Francisco     NaN  \n",
       "3         NaN  San Francisco     NaN  \n",
       "4         NaN  San Francisco     NaN  \n",
       "...       ...            ...     ...  \n",
       "148649    NaN  San Francisco     NaN  \n",
       "148650    NaN  San Francisco     NaN  \n",
       "148651    NaN  San Francisco     NaN  \n",
       "148652    NaN  San Francisco     NaN  \n",
       "148653    NaN  San Francisco     NaN  \n",
       "\n",
       "[148654 rows x 13 columns]"
      ]
     },
     "execution_count": 2,
     "metadata": {},
     "output_type": "execute_result"
    }
   ],
   "source": [
    "sal= pd.read_csv(r\"C:\\Users\\USER\\Desktop\\EXCEL\\Salaries121.csv\")\n",
    "sal"
   ]
  },
  {
   "cell_type": "markdown",
   "id": "c009eeb4-f98a-416a-b2ff-1e135ed9ca65",
   "metadata": {},
   "source": [
    "### Data Preprocessing"
   ]
  },
  {
   "cell_type": "code",
   "execution_count": 3,
   "id": "aca3ea77-7fe1-45dc-8de1-ca4a1e25f210",
   "metadata": {},
   "outputs": [
    {
     "data": {
      "text/html": [
       "<div>\n",
       "<style scoped>\n",
       "    .dataframe tbody tr th:only-of-type {\n",
       "        vertical-align: middle;\n",
       "    }\n",
       "\n",
       "    .dataframe tbody tr th {\n",
       "        vertical-align: top;\n",
       "    }\n",
       "\n",
       "    .dataframe thead th {\n",
       "        text-align: right;\n",
       "    }\n",
       "</style>\n",
       "<table border=\"1\" class=\"dataframe\">\n",
       "  <thead>\n",
       "    <tr style=\"text-align: right;\">\n",
       "      <th></th>\n",
       "      <th>Id</th>\n",
       "      <th>EmployeeName</th>\n",
       "      <th>JobTitle</th>\n",
       "      <th>BasePay</th>\n",
       "      <th>OvertimePay</th>\n",
       "      <th>OtherPay</th>\n",
       "      <th>Benefits</th>\n",
       "      <th>TotalPay</th>\n",
       "      <th>TotalPayBenefits</th>\n",
       "      <th>Year</th>\n",
       "      <th>Notes</th>\n",
       "      <th>Agency</th>\n",
       "      <th>Status</th>\n",
       "    </tr>\n",
       "  </thead>\n",
       "  <tbody>\n",
       "    <tr>\n",
       "      <th>108026</th>\n",
       "      <td>108027</td>\n",
       "      <td>Jack  Lee</td>\n",
       "      <td>Recreation Leader</td>\n",
       "      <td>2896.14</td>\n",
       "      <td>0.00</td>\n",
       "      <td>12.15</td>\n",
       "      <td>1849.51</td>\n",
       "      <td>2908.29</td>\n",
       "      <td>4757.80</td>\n",
       "      <td>2013</td>\n",
       "      <td>NaN</td>\n",
       "      <td>San Francisco</td>\n",
       "      <td>NaN</td>\n",
       "    </tr>\n",
       "    <tr>\n",
       "      <th>38366</th>\n",
       "      <td>38367</td>\n",
       "      <td>Christopher Hobart</td>\n",
       "      <td>Senior Physician Specialist</td>\n",
       "      <td>146107.53</td>\n",
       "      <td>0.00</td>\n",
       "      <td>7305.86</td>\n",
       "      <td>47923.44</td>\n",
       "      <td>153413.39</td>\n",
       "      <td>201336.83</td>\n",
       "      <td>2012</td>\n",
       "      <td>NaN</td>\n",
       "      <td>San Francisco</td>\n",
       "      <td>NaN</td>\n",
       "    </tr>\n",
       "    <tr>\n",
       "      <th>35541</th>\n",
       "      <td>35542</td>\n",
       "      <td>JOHN CONKLIN</td>\n",
       "      <td>TRANSIT OPERATOR</td>\n",
       "      <td>492.10</td>\n",
       "      <td>250.79</td>\n",
       "      <td>8.34</td>\n",
       "      <td>NaN</td>\n",
       "      <td>751.23</td>\n",
       "      <td>751.23</td>\n",
       "      <td>2011</td>\n",
       "      <td>NaN</td>\n",
       "      <td>San Francisco</td>\n",
       "      <td>NaN</td>\n",
       "    </tr>\n",
       "    <tr>\n",
       "      <th>71875</th>\n",
       "      <td>71876</td>\n",
       "      <td>Krista Miloslavich</td>\n",
       "      <td>Recreation Leader</td>\n",
       "      <td>1443.38</td>\n",
       "      <td>0.00</td>\n",
       "      <td>1.10</td>\n",
       "      <td>136.35</td>\n",
       "      <td>1444.48</td>\n",
       "      <td>1580.83</td>\n",
       "      <td>2012</td>\n",
       "      <td>NaN</td>\n",
       "      <td>San Francisco</td>\n",
       "      <td>NaN</td>\n",
       "    </tr>\n",
       "    <tr>\n",
       "      <th>112529</th>\n",
       "      <td>112530</td>\n",
       "      <td>Radhika K Fox</td>\n",
       "      <td>Manager V</td>\n",
       "      <td>154688.47</td>\n",
       "      <td>0.00</td>\n",
       "      <td>0.00</td>\n",
       "      <td>57724.29</td>\n",
       "      <td>154688.47</td>\n",
       "      <td>212412.76</td>\n",
       "      <td>2014</td>\n",
       "      <td>NaN</td>\n",
       "      <td>San Francisco</td>\n",
       "      <td>NaN</td>\n",
       "    </tr>\n",
       "    <tr>\n",
       "      <th>78625</th>\n",
       "      <td>78626</td>\n",
       "      <td>Maribel Y Palinsad</td>\n",
       "      <td>Registered Nurse</td>\n",
       "      <td>108722.84</td>\n",
       "      <td>5085.52</td>\n",
       "      <td>18868.02</td>\n",
       "      <td>38635.31</td>\n",
       "      <td>132676.38</td>\n",
       "      <td>171311.69</td>\n",
       "      <td>2013</td>\n",
       "      <td>NaN</td>\n",
       "      <td>San Francisco</td>\n",
       "      <td>NaN</td>\n",
       "    </tr>\n",
       "    <tr>\n",
       "      <th>97075</th>\n",
       "      <td>97076</td>\n",
       "      <td>Mercedes  Rogers</td>\n",
       "      <td>Parking Control Officer</td>\n",
       "      <td>54932.56</td>\n",
       "      <td>200.00</td>\n",
       "      <td>2752.54</td>\n",
       "      <td>24136.94</td>\n",
       "      <td>57885.10</td>\n",
       "      <td>82022.04</td>\n",
       "      <td>2013</td>\n",
       "      <td>NaN</td>\n",
       "      <td>San Francisco</td>\n",
       "      <td>NaN</td>\n",
       "    </tr>\n",
       "    <tr>\n",
       "      <th>100317</th>\n",
       "      <td>100318</td>\n",
       "      <td>Kristen L Vyas</td>\n",
       "      <td>Estate Investigator</td>\n",
       "      <td>42377.40</td>\n",
       "      <td>0.00</td>\n",
       "      <td>0.00</td>\n",
       "      <td>15597.68</td>\n",
       "      <td>42377.40</td>\n",
       "      <td>57975.08</td>\n",
       "      <td>2013</td>\n",
       "      <td>NaN</td>\n",
       "      <td>San Francisco</td>\n",
       "      <td>NaN</td>\n",
       "    </tr>\n",
       "    <tr>\n",
       "      <th>95305</th>\n",
       "      <td>95306</td>\n",
       "      <td>Rosemarie D Manzano</td>\n",
       "      <td>Patient Svcs Finance Tech</td>\n",
       "      <td>60105.53</td>\n",
       "      <td>1684.50</td>\n",
       "      <td>646.87</td>\n",
       "      <td>25674.62</td>\n",
       "      <td>62436.90</td>\n",
       "      <td>88111.52</td>\n",
       "      <td>2013</td>\n",
       "      <td>NaN</td>\n",
       "      <td>San Francisco</td>\n",
       "      <td>NaN</td>\n",
       "    </tr>\n",
       "    <tr>\n",
       "      <th>87467</th>\n",
       "      <td>87468</td>\n",
       "      <td>Karen D Booth</td>\n",
       "      <td>Transit Operator</td>\n",
       "      <td>68633.42</td>\n",
       "      <td>7907.95</td>\n",
       "      <td>5846.47</td>\n",
       "      <td>34689.90</td>\n",
       "      <td>82387.84</td>\n",
       "      <td>117077.74</td>\n",
       "      <td>2013</td>\n",
       "      <td>NaN</td>\n",
       "      <td>San Francisco</td>\n",
       "      <td>NaN</td>\n",
       "    </tr>\n",
       "  </tbody>\n",
       "</table>\n",
       "</div>"
      ],
      "text/plain": [
       "            Id         EmployeeName                     JobTitle    BasePay  \\\n",
       "108026  108027            Jack  Lee            Recreation Leader    2896.14   \n",
       "38366    38367   Christopher Hobart  Senior Physician Specialist  146107.53   \n",
       "35541    35542         JOHN CONKLIN             TRANSIT OPERATOR     492.10   \n",
       "71875    71876   Krista Miloslavich            Recreation Leader    1443.38   \n",
       "112529  112530        Radhika K Fox                    Manager V  154688.47   \n",
       "78625    78626   Maribel Y Palinsad             Registered Nurse  108722.84   \n",
       "97075    97076     Mercedes  Rogers      Parking Control Officer   54932.56   \n",
       "100317  100318       Kristen L Vyas          Estate Investigator   42377.40   \n",
       "95305    95306  Rosemarie D Manzano    Patient Svcs Finance Tech   60105.53   \n",
       "87467    87468        Karen D Booth             Transit Operator   68633.42   \n",
       "\n",
       "        OvertimePay  OtherPay  Benefits   TotalPay  TotalPayBenefits  Year  \\\n",
       "108026         0.00     12.15   1849.51    2908.29           4757.80  2013   \n",
       "38366          0.00   7305.86  47923.44  153413.39         201336.83  2012   \n",
       "35541        250.79      8.34       NaN     751.23            751.23  2011   \n",
       "71875          0.00      1.10    136.35    1444.48           1580.83  2012   \n",
       "112529         0.00      0.00  57724.29  154688.47         212412.76  2014   \n",
       "78625       5085.52  18868.02  38635.31  132676.38         171311.69  2013   \n",
       "97075        200.00   2752.54  24136.94   57885.10          82022.04  2013   \n",
       "100317         0.00      0.00  15597.68   42377.40          57975.08  2013   \n",
       "95305       1684.50    646.87  25674.62   62436.90          88111.52  2013   \n",
       "87467       7907.95   5846.47  34689.90   82387.84         117077.74  2013   \n",
       "\n",
       "        Notes         Agency  Status  \n",
       "108026    NaN  San Francisco     NaN  \n",
       "38366     NaN  San Francisco     NaN  \n",
       "35541     NaN  San Francisco     NaN  \n",
       "71875     NaN  San Francisco     NaN  \n",
       "112529    NaN  San Francisco     NaN  \n",
       "78625     NaN  San Francisco     NaN  \n",
       "97075     NaN  San Francisco     NaN  \n",
       "100317    NaN  San Francisco     NaN  \n",
       "95305     NaN  San Francisco     NaN  \n",
       "87467     NaN  San Francisco     NaN  "
      ]
     },
     "execution_count": 3,
     "metadata": {},
     "output_type": "execute_result"
    }
   ],
   "source": [
    "sal.sample(10)"
   ]
  },
  {
   "cell_type": "code",
   "execution_count": 4,
   "id": "cd5f4262-25af-4d0e-a804-e7a2bd77ba9f",
   "metadata": {},
   "outputs": [
    {
     "data": {
      "text/html": [
       "<div>\n",
       "<style scoped>\n",
       "    .dataframe tbody tr th:only-of-type {\n",
       "        vertical-align: middle;\n",
       "    }\n",
       "\n",
       "    .dataframe tbody tr th {\n",
       "        vertical-align: top;\n",
       "    }\n",
       "\n",
       "    .dataframe thead th {\n",
       "        text-align: right;\n",
       "    }\n",
       "</style>\n",
       "<table border=\"1\" class=\"dataframe\">\n",
       "  <thead>\n",
       "    <tr style=\"text-align: right;\">\n",
       "      <th></th>\n",
       "      <th>Id</th>\n",
       "      <th>BasePay</th>\n",
       "      <th>OvertimePay</th>\n",
       "      <th>OtherPay</th>\n",
       "      <th>Benefits</th>\n",
       "      <th>TotalPay</th>\n",
       "      <th>TotalPayBenefits</th>\n",
       "      <th>Year</th>\n",
       "      <th>Notes</th>\n",
       "      <th>Status</th>\n",
       "    </tr>\n",
       "  </thead>\n",
       "  <tbody>\n",
       "    <tr>\n",
       "      <th>count</th>\n",
       "      <td>148654.000000</td>\n",
       "      <td>148045.000000</td>\n",
       "      <td>148650.000000</td>\n",
       "      <td>148650.000000</td>\n",
       "      <td>112491.000000</td>\n",
       "      <td>148654.000000</td>\n",
       "      <td>148654.000000</td>\n",
       "      <td>148654.000000</td>\n",
       "      <td>0.0</td>\n",
       "      <td>0.0</td>\n",
       "    </tr>\n",
       "    <tr>\n",
       "      <th>mean</th>\n",
       "      <td>74327.500000</td>\n",
       "      <td>66325.448840</td>\n",
       "      <td>5066.059886</td>\n",
       "      <td>3648.767297</td>\n",
       "      <td>25007.893151</td>\n",
       "      <td>74768.321972</td>\n",
       "      <td>93692.554811</td>\n",
       "      <td>2012.522643</td>\n",
       "      <td>NaN</td>\n",
       "      <td>NaN</td>\n",
       "    </tr>\n",
       "    <tr>\n",
       "      <th>std</th>\n",
       "      <td>42912.857795</td>\n",
       "      <td>42764.635495</td>\n",
       "      <td>11454.380559</td>\n",
       "      <td>8056.601866</td>\n",
       "      <td>15402.215858</td>\n",
       "      <td>50517.005274</td>\n",
       "      <td>62793.533483</td>\n",
       "      <td>1.117538</td>\n",
       "      <td>NaN</td>\n",
       "      <td>NaN</td>\n",
       "    </tr>\n",
       "    <tr>\n",
       "      <th>min</th>\n",
       "      <td>1.000000</td>\n",
       "      <td>-166.010000</td>\n",
       "      <td>-0.010000</td>\n",
       "      <td>-7058.590000</td>\n",
       "      <td>-33.890000</td>\n",
       "      <td>-618.130000</td>\n",
       "      <td>-618.130000</td>\n",
       "      <td>2011.000000</td>\n",
       "      <td>NaN</td>\n",
       "      <td>NaN</td>\n",
       "    </tr>\n",
       "    <tr>\n",
       "      <th>25%</th>\n",
       "      <td>37164.250000</td>\n",
       "      <td>33588.200000</td>\n",
       "      <td>0.000000</td>\n",
       "      <td>0.000000</td>\n",
       "      <td>11535.395000</td>\n",
       "      <td>36168.995000</td>\n",
       "      <td>44065.650000</td>\n",
       "      <td>2012.000000</td>\n",
       "      <td>NaN</td>\n",
       "      <td>NaN</td>\n",
       "    </tr>\n",
       "    <tr>\n",
       "      <th>50%</th>\n",
       "      <td>74327.500000</td>\n",
       "      <td>65007.450000</td>\n",
       "      <td>0.000000</td>\n",
       "      <td>811.270000</td>\n",
       "      <td>28628.620000</td>\n",
       "      <td>71426.610000</td>\n",
       "      <td>92404.090000</td>\n",
       "      <td>2013.000000</td>\n",
       "      <td>NaN</td>\n",
       "      <td>NaN</td>\n",
       "    </tr>\n",
       "    <tr>\n",
       "      <th>75%</th>\n",
       "      <td>111490.750000</td>\n",
       "      <td>94691.050000</td>\n",
       "      <td>4658.175000</td>\n",
       "      <td>4236.065000</td>\n",
       "      <td>35566.855000</td>\n",
       "      <td>105839.135000</td>\n",
       "      <td>132876.450000</td>\n",
       "      <td>2014.000000</td>\n",
       "      <td>NaN</td>\n",
       "      <td>NaN</td>\n",
       "    </tr>\n",
       "    <tr>\n",
       "      <th>max</th>\n",
       "      <td>148654.000000</td>\n",
       "      <td>319275.010000</td>\n",
       "      <td>245131.880000</td>\n",
       "      <td>400184.250000</td>\n",
       "      <td>96570.660000</td>\n",
       "      <td>567595.430000</td>\n",
       "      <td>567595.430000</td>\n",
       "      <td>2014.000000</td>\n",
       "      <td>NaN</td>\n",
       "      <td>NaN</td>\n",
       "    </tr>\n",
       "  </tbody>\n",
       "</table>\n",
       "</div>"
      ],
      "text/plain": [
       "                  Id        BasePay    OvertimePay       OtherPay  \\\n",
       "count  148654.000000  148045.000000  148650.000000  148650.000000   \n",
       "mean    74327.500000   66325.448840    5066.059886    3648.767297   \n",
       "std     42912.857795   42764.635495   11454.380559    8056.601866   \n",
       "min         1.000000    -166.010000      -0.010000   -7058.590000   \n",
       "25%     37164.250000   33588.200000       0.000000       0.000000   \n",
       "50%     74327.500000   65007.450000       0.000000     811.270000   \n",
       "75%    111490.750000   94691.050000    4658.175000    4236.065000   \n",
       "max    148654.000000  319275.010000  245131.880000  400184.250000   \n",
       "\n",
       "            Benefits       TotalPay  TotalPayBenefits           Year  Notes  \\\n",
       "count  112491.000000  148654.000000     148654.000000  148654.000000    0.0   \n",
       "mean    25007.893151   74768.321972      93692.554811    2012.522643    NaN   \n",
       "std     15402.215858   50517.005274      62793.533483       1.117538    NaN   \n",
       "min       -33.890000    -618.130000       -618.130000    2011.000000    NaN   \n",
       "25%     11535.395000   36168.995000      44065.650000    2012.000000    NaN   \n",
       "50%     28628.620000   71426.610000      92404.090000    2013.000000    NaN   \n",
       "75%     35566.855000  105839.135000     132876.450000    2014.000000    NaN   \n",
       "max     96570.660000  567595.430000     567595.430000    2014.000000    NaN   \n",
       "\n",
       "       Status  \n",
       "count     0.0  \n",
       "mean      NaN  \n",
       "std       NaN  \n",
       "min       NaN  \n",
       "25%       NaN  \n",
       "50%       NaN  \n",
       "75%       NaN  \n",
       "max       NaN  "
      ]
     },
     "execution_count": 4,
     "metadata": {},
     "output_type": "execute_result"
    }
   ],
   "source": [
    "sal.describe()"
   ]
  },
  {
   "cell_type": "code",
   "execution_count": 5,
   "id": "68d19df6-d00d-42d1-b3b9-27921b077515",
   "metadata": {},
   "outputs": [
    {
     "data": {
      "text/plain": [
       "(148654, 13)"
      ]
     },
     "execution_count": 5,
     "metadata": {},
     "output_type": "execute_result"
    }
   ],
   "source": [
    "sal.shape"
   ]
  },
  {
   "cell_type": "code",
   "execution_count": 6,
   "id": "5de7619d-137e-4fe7-847a-958bc3cbf61b",
   "metadata": {},
   "outputs": [
    {
     "data": {
      "text/plain": [
       "Id                       0\n",
       "EmployeeName             0\n",
       "JobTitle                 0\n",
       "BasePay                609\n",
       "OvertimePay              4\n",
       "OtherPay                 4\n",
       "Benefits             36163\n",
       "TotalPay                 0\n",
       "TotalPayBenefits         0\n",
       "Year                     0\n",
       "Notes               148654\n",
       "Agency                   0\n",
       "Status              148654\n",
       "dtype: int64"
      ]
     },
     "execution_count": 6,
     "metadata": {},
     "output_type": "execute_result"
    }
   ],
   "source": [
    "sal.isnull().sum()"
   ]
  },
  {
   "cell_type": "code",
   "execution_count": 7,
   "id": "b5f42461-574d-4b83-ae76-a78bb693f9c5",
   "metadata": {},
   "outputs": [
    {
     "name": "stdout",
     "output_type": "stream",
     "text": [
      "<class 'pandas.core.frame.DataFrame'>\n",
      "RangeIndex: 148654 entries, 0 to 148653\n",
      "Data columns (total 13 columns):\n",
      " #   Column            Non-Null Count   Dtype  \n",
      "---  ------            --------------   -----  \n",
      " 0   Id                148654 non-null  int64  \n",
      " 1   EmployeeName      148654 non-null  object \n",
      " 2   JobTitle          148654 non-null  object \n",
      " 3   BasePay           148045 non-null  float64\n",
      " 4   OvertimePay       148650 non-null  float64\n",
      " 5   OtherPay          148650 non-null  float64\n",
      " 6   Benefits          112491 non-null  float64\n",
      " 7   TotalPay          148654 non-null  float64\n",
      " 8   TotalPayBenefits  148654 non-null  float64\n",
      " 9   Year              148654 non-null  int64  \n",
      " 10  Notes             0 non-null       float64\n",
      " 11  Agency            148654 non-null  object \n",
      " 12  Status            0 non-null       float64\n",
      "dtypes: float64(8), int64(2), object(3)\n",
      "memory usage: 14.7+ MB\n"
     ]
    }
   ],
   "source": [
    "sal.info()"
   ]
  },
  {
   "cell_type": "markdown",
   "id": "1c842ddb-bfa9-497c-aacb-8344d4590ba8",
   "metadata": {},
   "source": [
    "### Data Cleaning"
   ]
  },
  {
   "cell_type": "markdown",
   "id": "69312845-d157-4512-bc73-2a9ec0ce773b",
   "metadata": {},
   "source": [
    "#### Dropping unnecessary columns "
   ]
  },
  {
   "cell_type": "code",
   "execution_count": 8,
   "id": "a34d0e91-85cc-4521-823c-5b84f2fd0c9e",
   "metadata": {},
   "outputs": [
    {
     "data": {
      "text/html": [
       "<div>\n",
       "<style scoped>\n",
       "    .dataframe tbody tr th:only-of-type {\n",
       "        vertical-align: middle;\n",
       "    }\n",
       "\n",
       "    .dataframe tbody tr th {\n",
       "        vertical-align: top;\n",
       "    }\n",
       "\n",
       "    .dataframe thead th {\n",
       "        text-align: right;\n",
       "    }\n",
       "</style>\n",
       "<table border=\"1\" class=\"dataframe\">\n",
       "  <thead>\n",
       "    <tr style=\"text-align: right;\">\n",
       "      <th></th>\n",
       "      <th>Id</th>\n",
       "      <th>EmployeeName</th>\n",
       "      <th>JobTitle</th>\n",
       "      <th>BasePay</th>\n",
       "      <th>OvertimePay</th>\n",
       "      <th>OtherPay</th>\n",
       "      <th>Benefits</th>\n",
       "      <th>TotalPay</th>\n",
       "      <th>TotalPayBenefits</th>\n",
       "      <th>Year</th>\n",
       "      <th>Agency</th>\n",
       "    </tr>\n",
       "  </thead>\n",
       "  <tbody>\n",
       "    <tr>\n",
       "      <th>0</th>\n",
       "      <td>1</td>\n",
       "      <td>NATHANIEL FORD</td>\n",
       "      <td>GENERAL MANAGER-METROPOLITAN TRANSIT AUTHORITY</td>\n",
       "      <td>167411.18</td>\n",
       "      <td>0.00</td>\n",
       "      <td>400184.25</td>\n",
       "      <td>NaN</td>\n",
       "      <td>567595.43</td>\n",
       "      <td>567595.43</td>\n",
       "      <td>2011</td>\n",
       "      <td>San Francisco</td>\n",
       "    </tr>\n",
       "    <tr>\n",
       "      <th>1</th>\n",
       "      <td>2</td>\n",
       "      <td>GARY JIMENEZ</td>\n",
       "      <td>CAPTAIN III (POLICE DEPARTMENT)</td>\n",
       "      <td>155966.02</td>\n",
       "      <td>245131.88</td>\n",
       "      <td>137811.38</td>\n",
       "      <td>NaN</td>\n",
       "      <td>538909.28</td>\n",
       "      <td>538909.28</td>\n",
       "      <td>2011</td>\n",
       "      <td>San Francisco</td>\n",
       "    </tr>\n",
       "    <tr>\n",
       "      <th>2</th>\n",
       "      <td>3</td>\n",
       "      <td>ALBERT PARDINI</td>\n",
       "      <td>CAPTAIN III (POLICE DEPARTMENT)</td>\n",
       "      <td>212739.13</td>\n",
       "      <td>106088.18</td>\n",
       "      <td>16452.60</td>\n",
       "      <td>NaN</td>\n",
       "      <td>335279.91</td>\n",
       "      <td>335279.91</td>\n",
       "      <td>2011</td>\n",
       "      <td>San Francisco</td>\n",
       "    </tr>\n",
       "    <tr>\n",
       "      <th>3</th>\n",
       "      <td>4</td>\n",
       "      <td>CHRISTOPHER CHONG</td>\n",
       "      <td>WIRE ROPE CABLE MAINTENANCE MECHANIC</td>\n",
       "      <td>77916.00</td>\n",
       "      <td>56120.71</td>\n",
       "      <td>198306.90</td>\n",
       "      <td>NaN</td>\n",
       "      <td>332343.61</td>\n",
       "      <td>332343.61</td>\n",
       "      <td>2011</td>\n",
       "      <td>San Francisco</td>\n",
       "    </tr>\n",
       "    <tr>\n",
       "      <th>4</th>\n",
       "      <td>5</td>\n",
       "      <td>PATRICK GARDNER</td>\n",
       "      <td>DEPUTY CHIEF OF DEPARTMENT,(FIRE DEPARTMENT)</td>\n",
       "      <td>134401.60</td>\n",
       "      <td>9737.00</td>\n",
       "      <td>182234.59</td>\n",
       "      <td>NaN</td>\n",
       "      <td>326373.19</td>\n",
       "      <td>326373.19</td>\n",
       "      <td>2011</td>\n",
       "      <td>San Francisco</td>\n",
       "    </tr>\n",
       "  </tbody>\n",
       "</table>\n",
       "</div>"
      ],
      "text/plain": [
       "   Id       EmployeeName                                        JobTitle  \\\n",
       "0   1     NATHANIEL FORD  GENERAL MANAGER-METROPOLITAN TRANSIT AUTHORITY   \n",
       "1   2       GARY JIMENEZ                 CAPTAIN III (POLICE DEPARTMENT)   \n",
       "2   3     ALBERT PARDINI                 CAPTAIN III (POLICE DEPARTMENT)   \n",
       "3   4  CHRISTOPHER CHONG            WIRE ROPE CABLE MAINTENANCE MECHANIC   \n",
       "4   5    PATRICK GARDNER    DEPUTY CHIEF OF DEPARTMENT,(FIRE DEPARTMENT)   \n",
       "\n",
       "     BasePay  OvertimePay   OtherPay  Benefits   TotalPay  TotalPayBenefits  \\\n",
       "0  167411.18         0.00  400184.25       NaN  567595.43         567595.43   \n",
       "1  155966.02    245131.88  137811.38       NaN  538909.28         538909.28   \n",
       "2  212739.13    106088.18   16452.60       NaN  335279.91         335279.91   \n",
       "3   77916.00     56120.71  198306.90       NaN  332343.61         332343.61   \n",
       "4  134401.60      9737.00  182234.59       NaN  326373.19         326373.19   \n",
       "\n",
       "   Year         Agency  \n",
       "0  2011  San Francisco  \n",
       "1  2011  San Francisco  \n",
       "2  2011  San Francisco  \n",
       "3  2011  San Francisco  \n",
       "4  2011  San Francisco  "
      ]
     },
     "execution_count": 8,
     "metadata": {},
     "output_type": "execute_result"
    }
   ],
   "source": [
    "sal.drop(['Notes'],axis=1,inplace=True)\n",
    "sal.drop(['Status'],axis=1,inplace=True)\n",
    "sal.head()"
   ]
  },
  {
   "cell_type": "code",
   "execution_count": 9,
   "id": "7dc3e81b-9a8f-4170-b417-01cd1bab518d",
   "metadata": {},
   "outputs": [
    {
     "name": "stderr",
     "output_type": "stream",
     "text": [
      "C:\\Users\\USER\\AppData\\Local\\Temp\\ipykernel_27204\\2575099550.py:1: FutureWarning: A value is trying to be set on a copy of a DataFrame or Series through chained assignment using an inplace method.\n",
      "The behavior will change in pandas 3.0. This inplace method will never work because the intermediate object on which we are setting values always behaves as a copy.\n",
      "\n",
      "For example, when doing 'df[col].method(value, inplace=True)', try using 'df.method({col: value}, inplace=True)' or df[col] = df[col].method(value) instead, to perform the operation inplace on the original object.\n",
      "\n",
      "\n",
      "  sal['Benefits'].fillna(sal['Benefits'].mean(),inplace=True)\n"
     ]
    }
   ],
   "source": [
    "sal['Benefits'].fillna(sal['Benefits'].mean(),inplace=True)"
   ]
  },
  {
   "cell_type": "code",
   "execution_count": 10,
   "id": "b6a46ad8-2442-4779-9353-804f9824f9f7",
   "metadata": {},
   "outputs": [
    {
     "name": "stderr",
     "output_type": "stream",
     "text": [
      "C:\\Users\\USER\\AppData\\Local\\Temp\\ipykernel_27204\\286130833.py:1: FutureWarning: A value is trying to be set on a copy of a DataFrame or Series through chained assignment using an inplace method.\n",
      "The behavior will change in pandas 3.0. This inplace method will never work because the intermediate object on which we are setting values always behaves as a copy.\n",
      "\n",
      "For example, when doing 'df[col].method(value, inplace=True)', try using 'df.method({col: value}, inplace=True)' or df[col] = df[col].method(value) instead, to perform the operation inplace on the original object.\n",
      "\n",
      "\n",
      "  sal['BasePay'].fillna(sal['BasePay'].mean(),inplace=True)\n"
     ]
    }
   ],
   "source": [
    "sal['BasePay'].fillna(sal['BasePay'].mean(),inplace=True)"
   ]
  },
  {
   "cell_type": "code",
   "execution_count": 11,
   "id": "9e127c89-12b3-497b-b01d-16cd382a1947",
   "metadata": {},
   "outputs": [
    {
     "name": "stderr",
     "output_type": "stream",
     "text": [
      "C:\\Users\\USER\\AppData\\Local\\Temp\\ipykernel_27204\\22339562.py:1: FutureWarning: A value is trying to be set on a copy of a DataFrame or Series through chained assignment using an inplace method.\n",
      "The behavior will change in pandas 3.0. This inplace method will never work because the intermediate object on which we are setting values always behaves as a copy.\n",
      "\n",
      "For example, when doing 'df[col].method(value, inplace=True)', try using 'df.method({col: value}, inplace=True)' or df[col] = df[col].method(value) instead, to perform the operation inplace on the original object.\n",
      "\n",
      "\n",
      "  sal['OvertimePay'].fillna(sal['OvertimePay'].mean(),inplace=True)\n"
     ]
    }
   ],
   "source": [
    "sal['OvertimePay'].fillna(sal['OvertimePay'].mean(),inplace=True)"
   ]
  },
  {
   "cell_type": "code",
   "execution_count": 12,
   "id": "b764b89f-9572-411d-81ac-9a8d7b4ae76e",
   "metadata": {},
   "outputs": [
    {
     "name": "stderr",
     "output_type": "stream",
     "text": [
      "C:\\Users\\USER\\AppData\\Local\\Temp\\ipykernel_27204\\2532938449.py:1: FutureWarning: A value is trying to be set on a copy of a DataFrame or Series through chained assignment using an inplace method.\n",
      "The behavior will change in pandas 3.0. This inplace method will never work because the intermediate object on which we are setting values always behaves as a copy.\n",
      "\n",
      "For example, when doing 'df[col].method(value, inplace=True)', try using 'df.method({col: value}, inplace=True)' or df[col] = df[col].method(value) instead, to perform the operation inplace on the original object.\n",
      "\n",
      "\n",
      "  sal['OtherPay'].fillna(sal['OtherPay'].mean(),inplace=True)\n"
     ]
    }
   ],
   "source": [
    "sal['OtherPay'].fillna(sal['OtherPay'].mean(),inplace=True)"
   ]
  },
  {
   "cell_type": "code",
   "execution_count": 13,
   "id": "84263173-8bc6-4476-9479-e2f34a7844c2",
   "metadata": {},
   "outputs": [
    {
     "data": {
      "text/plain": [
       "Id                  0\n",
       "EmployeeName        0\n",
       "JobTitle            0\n",
       "BasePay             0\n",
       "OvertimePay         0\n",
       "OtherPay            0\n",
       "Benefits            0\n",
       "TotalPay            0\n",
       "TotalPayBenefits    0\n",
       "Year                0\n",
       "Agency              0\n",
       "dtype: int64"
      ]
     },
     "execution_count": 13,
     "metadata": {},
     "output_type": "execute_result"
    }
   ],
   "source": [
    "sal.isnull().sum()"
   ]
  },
  {
   "cell_type": "code",
   "execution_count": 14,
   "id": "0b83f4ca-a513-4463-aa3b-84dba6a60af7",
   "metadata": {
    "scrolled": true
   },
   "outputs": [
    {
     "data": {
      "text/html": [
       "<div>\n",
       "<style scoped>\n",
       "    .dataframe tbody tr th:only-of-type {\n",
       "        vertical-align: middle;\n",
       "    }\n",
       "\n",
       "    .dataframe tbody tr th {\n",
       "        vertical-align: top;\n",
       "    }\n",
       "\n",
       "    .dataframe thead th {\n",
       "        text-align: right;\n",
       "    }\n",
       "</style>\n",
       "<table border=\"1\" class=\"dataframe\">\n",
       "  <thead>\n",
       "    <tr style=\"text-align: right;\">\n",
       "      <th></th>\n",
       "      <th>Id</th>\n",
       "      <th>BasePay</th>\n",
       "      <th>OvertimePay</th>\n",
       "      <th>OtherPay</th>\n",
       "      <th>Benefits</th>\n",
       "      <th>TotalPay</th>\n",
       "      <th>TotalPayBenefits</th>\n",
       "      <th>Year</th>\n",
       "    </tr>\n",
       "  </thead>\n",
       "  <tbody>\n",
       "    <tr>\n",
       "      <th>count</th>\n",
       "      <td>148654.000000</td>\n",
       "      <td>148654.000000</td>\n",
       "      <td>148654.000000</td>\n",
       "      <td>148654.000000</td>\n",
       "      <td>148654.000000</td>\n",
       "      <td>148654.000000</td>\n",
       "      <td>148654.000000</td>\n",
       "      <td>148654.000000</td>\n",
       "    </tr>\n",
       "    <tr>\n",
       "      <th>mean</th>\n",
       "      <td>74327.500000</td>\n",
       "      <td>66325.448840</td>\n",
       "      <td>5066.059886</td>\n",
       "      <td>3648.767297</td>\n",
       "      <td>25007.893151</td>\n",
       "      <td>74768.321972</td>\n",
       "      <td>93692.554811</td>\n",
       "      <td>2012.522643</td>\n",
       "    </tr>\n",
       "    <tr>\n",
       "      <th>std</th>\n",
       "      <td>42912.857795</td>\n",
       "      <td>42676.946745</td>\n",
       "      <td>11454.226449</td>\n",
       "      <td>8056.493470</td>\n",
       "      <td>13398.411899</td>\n",
       "      <td>50517.005274</td>\n",
       "      <td>62793.533483</td>\n",
       "      <td>1.117538</td>\n",
       "    </tr>\n",
       "    <tr>\n",
       "      <th>min</th>\n",
       "      <td>1.000000</td>\n",
       "      <td>-166.010000</td>\n",
       "      <td>-0.010000</td>\n",
       "      <td>-7058.590000</td>\n",
       "      <td>-33.890000</td>\n",
       "      <td>-618.130000</td>\n",
       "      <td>-618.130000</td>\n",
       "      <td>2011.000000</td>\n",
       "    </tr>\n",
       "    <tr>\n",
       "      <th>25%</th>\n",
       "      <td>37164.250000</td>\n",
       "      <td>33847.017500</td>\n",
       "      <td>0.000000</td>\n",
       "      <td>0.000000</td>\n",
       "      <td>22342.297500</td>\n",
       "      <td>36168.995000</td>\n",
       "      <td>44065.650000</td>\n",
       "      <td>2012.000000</td>\n",
       "    </tr>\n",
       "    <tr>\n",
       "      <th>50%</th>\n",
       "      <td>74327.500000</td>\n",
       "      <td>65092.190000</td>\n",
       "      <td>0.000000</td>\n",
       "      <td>811.350000</td>\n",
       "      <td>25007.893151</td>\n",
       "      <td>71426.610000</td>\n",
       "      <td>92404.090000</td>\n",
       "      <td>2013.000000</td>\n",
       "    </tr>\n",
       "    <tr>\n",
       "      <th>75%</th>\n",
       "      <td>111490.750000</td>\n",
       "      <td>94605.740000</td>\n",
       "      <td>4658.667500</td>\n",
       "      <td>4235.907500</td>\n",
       "      <td>33468.980000</td>\n",
       "      <td>105839.135000</td>\n",
       "      <td>132876.450000</td>\n",
       "      <td>2014.000000</td>\n",
       "    </tr>\n",
       "    <tr>\n",
       "      <th>max</th>\n",
       "      <td>148654.000000</td>\n",
       "      <td>319275.010000</td>\n",
       "      <td>245131.880000</td>\n",
       "      <td>400184.250000</td>\n",
       "      <td>96570.660000</td>\n",
       "      <td>567595.430000</td>\n",
       "      <td>567595.430000</td>\n",
       "      <td>2014.000000</td>\n",
       "    </tr>\n",
       "  </tbody>\n",
       "</table>\n",
       "</div>"
      ],
      "text/plain": [
       "                  Id        BasePay    OvertimePay       OtherPay  \\\n",
       "count  148654.000000  148654.000000  148654.000000  148654.000000   \n",
       "mean    74327.500000   66325.448840    5066.059886    3648.767297   \n",
       "std     42912.857795   42676.946745   11454.226449    8056.493470   \n",
       "min         1.000000    -166.010000      -0.010000   -7058.590000   \n",
       "25%     37164.250000   33847.017500       0.000000       0.000000   \n",
       "50%     74327.500000   65092.190000       0.000000     811.350000   \n",
       "75%    111490.750000   94605.740000    4658.667500    4235.907500   \n",
       "max    148654.000000  319275.010000  245131.880000  400184.250000   \n",
       "\n",
       "            Benefits       TotalPay  TotalPayBenefits           Year  \n",
       "count  148654.000000  148654.000000     148654.000000  148654.000000  \n",
       "mean    25007.893151   74768.321972      93692.554811    2012.522643  \n",
       "std     13398.411899   50517.005274      62793.533483       1.117538  \n",
       "min       -33.890000    -618.130000       -618.130000    2011.000000  \n",
       "25%     22342.297500   36168.995000      44065.650000    2012.000000  \n",
       "50%     25007.893151   71426.610000      92404.090000    2013.000000  \n",
       "75%     33468.980000  105839.135000     132876.450000    2014.000000  \n",
       "max     96570.660000  567595.430000     567595.430000    2014.000000  "
      ]
     },
     "execution_count": 14,
     "metadata": {},
     "output_type": "execute_result"
    }
   ],
   "source": [
    "sal.describe()"
   ]
  },
  {
   "cell_type": "code",
   "execution_count": 15,
   "id": "e3ff2b10-733a-4721-9c60-51b2ee799c1f",
   "metadata": {},
   "outputs": [
    {
     "data": {
      "text/plain": [
       "(148654, 11)"
      ]
     },
     "execution_count": 15,
     "metadata": {},
     "output_type": "execute_result"
    }
   ],
   "source": [
    "sal.shape "
   ]
  },
  {
   "cell_type": "code",
   "execution_count": 16,
   "id": "4e7f81eb-7388-4e79-ba2e-95079c831cb1",
   "metadata": {},
   "outputs": [
    {
     "data": {
      "text/html": [
       "<div>\n",
       "<style scoped>\n",
       "    .dataframe tbody tr th:only-of-type {\n",
       "        vertical-align: middle;\n",
       "    }\n",
       "\n",
       "    .dataframe tbody tr th {\n",
       "        vertical-align: top;\n",
       "    }\n",
       "\n",
       "    .dataframe thead th {\n",
       "        text-align: right;\n",
       "    }\n",
       "</style>\n",
       "<table border=\"1\" class=\"dataframe\">\n",
       "  <thead>\n",
       "    <tr style=\"text-align: right;\">\n",
       "      <th></th>\n",
       "      <th>Id</th>\n",
       "      <th>EmployeeName</th>\n",
       "      <th>JobTitle</th>\n",
       "      <th>BasePay</th>\n",
       "      <th>OvertimePay</th>\n",
       "      <th>OtherPay</th>\n",
       "      <th>Benefits</th>\n",
       "      <th>TotalPay</th>\n",
       "      <th>TotalPayBenefits</th>\n",
       "      <th>Year</th>\n",
       "      <th>Agency</th>\n",
       "    </tr>\n",
       "  </thead>\n",
       "  <tbody>\n",
       "    <tr>\n",
       "      <th>0</th>\n",
       "      <td>1</td>\n",
       "      <td>NATHANIEL FORD</td>\n",
       "      <td>GENERAL MANAGER-METROPOLITAN TRANSIT AUTHORITY</td>\n",
       "      <td>167411.18</td>\n",
       "      <td>0.00</td>\n",
       "      <td>400184.25</td>\n",
       "      <td>25007.893151</td>\n",
       "      <td>567595.43</td>\n",
       "      <td>567595.43</td>\n",
       "      <td>2011</td>\n",
       "      <td>San Francisco</td>\n",
       "    </tr>\n",
       "    <tr>\n",
       "      <th>1</th>\n",
       "      <td>2</td>\n",
       "      <td>GARY JIMENEZ</td>\n",
       "      <td>CAPTAIN III (POLICE DEPARTMENT)</td>\n",
       "      <td>155966.02</td>\n",
       "      <td>245131.88</td>\n",
       "      <td>137811.38</td>\n",
       "      <td>25007.893151</td>\n",
       "      <td>538909.28</td>\n",
       "      <td>538909.28</td>\n",
       "      <td>2011</td>\n",
       "      <td>San Francisco</td>\n",
       "    </tr>\n",
       "    <tr>\n",
       "      <th>2</th>\n",
       "      <td>3</td>\n",
       "      <td>ALBERT PARDINI</td>\n",
       "      <td>CAPTAIN III (POLICE DEPARTMENT)</td>\n",
       "      <td>212739.13</td>\n",
       "      <td>106088.18</td>\n",
       "      <td>16452.60</td>\n",
       "      <td>25007.893151</td>\n",
       "      <td>335279.91</td>\n",
       "      <td>335279.91</td>\n",
       "      <td>2011</td>\n",
       "      <td>San Francisco</td>\n",
       "    </tr>\n",
       "    <tr>\n",
       "      <th>3</th>\n",
       "      <td>4</td>\n",
       "      <td>CHRISTOPHER CHONG</td>\n",
       "      <td>WIRE ROPE CABLE MAINTENANCE MECHANIC</td>\n",
       "      <td>77916.00</td>\n",
       "      <td>56120.71</td>\n",
       "      <td>198306.90</td>\n",
       "      <td>25007.893151</td>\n",
       "      <td>332343.61</td>\n",
       "      <td>332343.61</td>\n",
       "      <td>2011</td>\n",
       "      <td>San Francisco</td>\n",
       "    </tr>\n",
       "    <tr>\n",
       "      <th>4</th>\n",
       "      <td>5</td>\n",
       "      <td>PATRICK GARDNER</td>\n",
       "      <td>DEPUTY CHIEF OF DEPARTMENT,(FIRE DEPARTMENT)</td>\n",
       "      <td>134401.60</td>\n",
       "      <td>9737.00</td>\n",
       "      <td>182234.59</td>\n",
       "      <td>25007.893151</td>\n",
       "      <td>326373.19</td>\n",
       "      <td>326373.19</td>\n",
       "      <td>2011</td>\n",
       "      <td>San Francisco</td>\n",
       "    </tr>\n",
       "  </tbody>\n",
       "</table>\n",
       "</div>"
      ],
      "text/plain": [
       "   Id       EmployeeName                                        JobTitle  \\\n",
       "0   1     NATHANIEL FORD  GENERAL MANAGER-METROPOLITAN TRANSIT AUTHORITY   \n",
       "1   2       GARY JIMENEZ                 CAPTAIN III (POLICE DEPARTMENT)   \n",
       "2   3     ALBERT PARDINI                 CAPTAIN III (POLICE DEPARTMENT)   \n",
       "3   4  CHRISTOPHER CHONG            WIRE ROPE CABLE MAINTENANCE MECHANIC   \n",
       "4   5    PATRICK GARDNER    DEPUTY CHIEF OF DEPARTMENT,(FIRE DEPARTMENT)   \n",
       "\n",
       "     BasePay  OvertimePay   OtherPay      Benefits   TotalPay  \\\n",
       "0  167411.18         0.00  400184.25  25007.893151  567595.43   \n",
       "1  155966.02    245131.88  137811.38  25007.893151  538909.28   \n",
       "2  212739.13    106088.18   16452.60  25007.893151  335279.91   \n",
       "3   77916.00     56120.71  198306.90  25007.893151  332343.61   \n",
       "4  134401.60      9737.00  182234.59  25007.893151  326373.19   \n",
       "\n",
       "   TotalPayBenefits  Year         Agency  \n",
       "0         567595.43  2011  San Francisco  \n",
       "1         538909.28  2011  San Francisco  \n",
       "2         335279.91  2011  San Francisco  \n",
       "3         332343.61  2011  San Francisco  \n",
       "4         326373.19  2011  San Francisco  "
      ]
     },
     "execution_count": 16,
     "metadata": {},
     "output_type": "execute_result"
    }
   ],
   "source": [
    "sal.head()"
   ]
  },
  {
   "cell_type": "markdown",
   "id": "1750b2b4-eddb-4ea6-801a-b70dca7c6999",
   "metadata": {},
   "source": [
    "#### 1. Top 5 Employee Names by occurrence "
   ]
  },
  {
   "cell_type": "code",
   "execution_count": 17,
   "id": "d5fbbdfc-d0ca-440b-ad4d-8f022cdaf90d",
   "metadata": {},
   "outputs": [
    {
     "name": "stdout",
     "output_type": "stream",
     "text": [
      "EmployeeName\n",
      "Kevin Lee       13\n",
      "Richard Lee     11\n",
      "Steven Lee      11\n",
      "William Wong    11\n",
      "Stanley Lee      9\n",
      "Name: count, dtype: int64\n"
     ]
    },
    {
     "data": {
      "image/png": "[encoded data removed]",
      "text/plain": [
       "<Figure size 640x480 with 1 Axes>"
      ]
     },
     "metadata": {},
     "output_type": "display_data"
    }
   ],
   "source": [
    "print(sal['EmployeeName'].value_counts().head(5))\n",
    "sns.barplot(sal['EmployeeName'].value_counts().head(5))\n",
    "plt.title('TOP EMPLOYEE NAMES BASED ON OCCURENCE')\n",
    "plt.xlabel('Employee Names')\n",
    "plt.ylabel('Count')\n",
    "plt.show()"
   ]
  },
  {
   "cell_type": "markdown",
   "id": "828a069e-7b45-4ee6-86a5-cd703205f9fb",
   "metadata": {},
   "source": [
    "#### 2. Unique Job Title"
   ]
  },
  {
   "cell_type": "code",
   "execution_count": 18,
   "id": "7daaab30-494b-4d7a-b12c-c7a44be5e05b",
   "metadata": {},
   "outputs": [
    {
     "name": "stdout",
     "output_type": "stream",
     "text": [
      "There are 2159 unique job titles\n"
     ]
    }
   ],
   "source": [
    "JT=sal['JobTitle'].nunique()\n",
    "print('There are',JT, 'unique job titles')"
   ]
  },
  {
   "cell_type": "markdown",
   "id": "3ba3fb2f-aafb-4070-83ed-c51e8ee498f7",
   "metadata": {},
   "source": [
    "#### 3. Job titles containing 'Captain'"
   ]
  },
  {
   "cell_type": "code",
   "execution_count": 19,
   "id": "178f7f8b-fc46-4a81-b58c-d04f37e6dfb0",
   "metadata": {},
   "outputs": [
    {
     "name": "stdout",
     "output_type": "stream",
     "text": [
      "552 job titles contained captain\n"
     ]
    }
   ],
   "source": [
    "Capn=sal['JobTitle'].str.contains('captain',case=False).sum()\n",
    "print(Capn, 'job titles contained captain')"
   ]
  },
  {
   "cell_type": "markdown",
   "id": "4bfdfc58-e58f-436e-87a2-0780466ef8b8",
   "metadata": {},
   "source": [
    "#### 4.Employees from fire department"
   ]
  },
  {
   "cell_type": "code",
   "execution_count": 20,
   "id": "4dabb650-841c-498b-80b1-6fd19d070e10",
   "metadata": {},
   "outputs": [
    {
     "data": {
      "text/plain": [
       "array(['PATRICK GARDNER', 'ALSON LEE', 'MICHAEL MORRIS',\n",
       "       'JOANNE HAYES-WHITE', 'ARTHUR KENNEY', 'DAVID FRANKLIN',\n",
       "       'MARTY ROSS', 'VICTOR WYRSCH', 'RAYMOND GUZMAN', 'MONICA FIELDS',\n",
       "       'JOSE VELO', 'BRENDAN WARD', 'MICHAEL THOMPSON', 'THOMAS ABBOTT',\n",
       "       'THOMAS SIRAGUSA', 'BRYAN RUBENSTEIN', 'KEN YEE',\n",
       "       'KIRK RICHARDSON', 'KENNETH SMITH', 'CHARLES CRANE',\n",
       "       'ROBERT POSTEL', 'RICHARD BUSALACCHI', 'KEVIN BURKE',\n",
       "       'EDUARDO GONZALEZ', 'ROBERT WINSLOW', 'LORRIE KALOS',\n",
       "       'MICHAEL BRYANT', 'MARK GONZALES', 'REX HALE', 'KEVIN SMITH',\n",
       "       'KEVIN TAYLOR', 'ERIKA HOO', 'SAMSON LAI', 'KHAIRUL ALI',\n",
       "       'JOHN HICKEY', 'EDWARD CHU', 'ZACHARY PUMPHREY', 'MARK CASTAGNOLA',\n",
       "       'LUIS IBARRA-RIVERA', 'MICHAEL KEARNEY', 'MATTHEW MCNAUGHTON',\n",
       "       'GEORGE LYSENKO', 'ALBERTO PEDRUCO', 'DWAYNE CURRY',\n",
       "       'DENNIS SUTTER', 'ROBERT SERRANO', 'JAMES VANNUCCHI',\n",
       "       'CANTREZ TRIPLETT', 'RYAN KENNEDY', 'JOHN ROCCO', 'EDMUND VAIL',\n",
       "       'ANDREW SAITZ', 'BERGLIOTH MATHEWS', 'PABLO SIGUENZA',\n",
       "       'DANIEL YONTS', 'DAVID THOMPSON', 'JAMES BLAKE', 'RYAN CREAN',\n",
       "       'RUDY CASTELLANOS', 'MICHAEL GONZALES', 'ROBERT LOPEZ',\n",
       "       'JOHN MURPHY', 'KENNETH CORDERO', 'JIM HALL III', 'MARK JOHNSON',\n",
       "       'BRENDAN MCGORRIN', 'WILLIAM MCFARLAND', 'RAEMONA WILLIAMS',\n",
       "       'JEFFREY BARDEN', 'MATTHEW CANNON', 'RICHARD UNTALAN',\n",
       "       \"DENNIS O'NEILL\", 'FLOYD ROLLINS', 'THOMAS KOHMANN',\n",
       "       'RAUL FRANCISCO', 'ALAN REYNAUD', 'DENISE NEWMAN', 'JOHN CREMEN',\n",
       "       'FRANK KOSTA', 'FRANK HSIEH', 'MATTHEW HUTCHINSON', 'DAVID BROWN',\n",
       "       'VINCENT NOLAN', 'CHERISH MURDOCK', 'LARS ASPELIN', 'JORGE PLATA',\n",
       "       'ANESTO ESTRELLA', 'KENNETH HUPKE', 'RONALD LEWIN',\n",
       "       'JOSEPH SCHIEBOLD', 'CHRISTINE EMMONS', 'DONALD GOGGIN',\n",
       "       'ANTHONY BENDIK', 'NORMAN CABA', 'SEAN MCKINNEY',\n",
       "       'ERNEST CARRILLO', 'MATTHEW SCHWARTZ', 'ALEXANDER DOUGLAS JR',\n",
       "       'DUSTIN WINN', 'ERIC LEAL', 'DENNIS SULLIVAN', 'PATRICK RABBITT',\n",
       "       'JOSEPH BARBERO', 'ANNE TAM', 'CHRISTOPHER MADSEN',\n",
       "       'JEANINE NICHOLSON', 'JAMES DRAPER', 'TERRY SMERDEL',\n",
       "       'CHARLES MC COY', 'RANDALL HIRO', 'LLOYD GOLDBERG',\n",
       "       'AISHA KRIEGER', 'CHASE WILSON', 'TYSON YEE', 'ALLEN WONG',\n",
       "       'BRIAN WALSH', \"PAUL O'KANE\", 'PAUL MCDONAGH', 'JANEEN PIROSKO',\n",
       "       'ROBERT ARZAVE', 'RUBEN MONTERO', 'DAVID MURRAY', 'KAREN HEALD',\n",
       "       'GERALD SCULLION', 'JENNIFER MATHEWS', 'DARIUS LUTTROPP',\n",
       "       'NEAL CAVELLINI', 'JIRO YAMAMOTO', 'JOEL SATO', 'KYLE MERKINS',\n",
       "       'JEFFREY WONG', 'DOMINIC OTTOBONI', 'ANGELA ROMERO', 'JOHN GRANT',\n",
       "       'DAVID RITTER', 'WALTER VILLAVICENCIO', 'KEVIN PARDINI',\n",
       "       'MARC KASPER', 'JOE CHAN', 'CRISTEO REYES', 'MICHAEL MALONEY',\n",
       "       'DAVID SMILEY', 'ETHAN JACKSON', 'MICHAEL CHARLTON',\n",
       "       \"PATRICK D'ARCY\", 'LAWRENCE CONRAD', 'MICHAEL BARRY',\n",
       "       'STEPHEN CASSIDY', 'ROBERT KISHI', 'TIMOTHY FARMER',\n",
       "       'BRICE PEOPLES', 'DAWN DEWITT', 'HEATHER PIPER', 'MARC EVANS',\n",
       "       'AARON STEVENSON', 'EUGENE ADAMS', 'CATHERINE EMMONS-SAMSON',\n",
       "       'BRENT STUCKERT', 'KENNETH JONES', 'MICHAEL DUNCAN', 'MATTHEW LEE',\n",
       "       'ANTHONY RIVERA', 'ANSON WU', 'HERMAN WOO', 'THERESA WOLOWIC',\n",
       "       'PETER GROSS', 'JAMES REIDY', 'THERESA KWAN', 'ANTHONY SMERDEL',\n",
       "       'RICKY YEE', 'ERICA ARTESEROS', 'ROBERT TURNQUIST', 'SEAN MULLANE',\n",
       "       'WAYNE WONG', 'MICHAEL FUCCIOLO', 'KATHY AUSTIN', 'BROCK WELLS',\n",
       "       'KIMBERLY MC KEON', 'RAMON SERRANO', 'GREGORY BLATMAN',\n",
       "       'PATRICK SULLIVAN', 'SEAN JOHNSTON', 'KEVIN MC KEON',\n",
       "       'THOMAS OERTLI', 'CHRISTOPHER BENZ', 'JUSTIN BROWN',\n",
       "       'CYNTHIA RICKERT', 'CHADWICK ERTOLA', 'CECILIA JIANG',\n",
       "       'JOHN CHUNG', 'JOHN LOPES', 'ROBERT NEUNEKER', 'DANIEL GRIFFIN',\n",
       "       'SHIRLEY SZELA', 'KAREN KERR', 'STEPHEN MC PARTLAN',\n",
       "       'ROBERT MCDONALD', 'JAMES APP', 'ROBERT ZLATUNICH',\n",
       "       'FREDERICK PUTT', 'SHANE FRANCISCO', 'ALAN WONG',\n",
       "       'CLIFTON MERRILL', 'KENNETH LINNEY', 'ANTHONY GARIBALDI',\n",
       "       'MARK HARDEMAN', 'DAT TRUONG', 'DWAYNE NEWTON', 'ALISON YEE',\n",
       "       'LEONEL TINGIN', 'RONALD VANPOOL', 'LESLIE WONG', 'HELEN KIEFFER',\n",
       "       'ROBERT CAPPA', 'SETH RUBENSTEIN', 'PATRICIA LUI',\n",
       "       'PATRICK MARTINEZ', 'AUDRY LEE', 'VINCENT PEREZ', 'JENSEN RHODES',\n",
       "       'JAMES BARDEN', 'Joanne Hayes-White', 'Joanne M Hayes-White',\n",
       "       'Robert E Evans'], dtype=object)"
      ]
     },
     "execution_count": 20,
     "metadata": {},
     "output_type": "execute_result"
    }
   ],
   "source": [
    "sal[sal['JobTitle'].str.contains('fire department',case=False)]['EmployeeName'].unique()"
   ]
  },
  {
   "cell_type": "markdown",
   "id": "b17554d2-b962-4c45-b589-71b8434e8dcf",
   "metadata": {},
   "source": [
    "#### 5. MIN, MAX & AVERAGE BASEPAY"
   ]
  },
  {
   "cell_type": "code",
   "execution_count": 21,
   "id": "11598cd3-14a5-43cb-8a67-0a3c340f0293",
   "metadata": {},
   "outputs": [
    {
     "name": "stdout",
     "output_type": "stream",
     "text": [
      "The minimum basepay is $ -166.01\n",
      "The maximum basepay is $ 319,275.01\n",
      "The average basepay is $ 66,325.45\n"
     ]
    }
   ],
   "source": [
    "min_basepay=round(sal['BasePay'].min(),2)\n",
    "print('The minimum basepay is $',min_basepay)\n",
    "max_basepay=\"{:,}\".format(round(sal['BasePay'].max(),2))\n",
    "print('The maximum basepay is $',max_basepay)\n",
    "avg_basepay=\"{:,}\".format(round(sal['BasePay'].mean(),2))\n",
    "print('The average basepay is $',avg_basepay)"
   ]
  },
  {
   "cell_type": "markdown",
   "id": "883317e0-025c-4966-8dd3-f00c5f34dc0e",
   "metadata": {},
   "source": [
    "#### 6. Replacing 'not provided' with 'NaN' in the EmployeeName column"
   ]
  },
  {
   "cell_type": "code",
   "execution_count": 22,
   "id": "1925c6e0-28ca-49c0-8d4e-3a740c454496",
   "metadata": {},
   "outputs": [
    {
     "name": "stderr",
     "output_type": "stream",
     "text": [
      "C:\\Users\\USER\\AppData\\Local\\Temp\\ipykernel_27204\\1598496413.py:1: FutureWarning: A value is trying to be set on a copy of a DataFrame or Series through chained assignment using an inplace method.\n",
      "The behavior will change in pandas 3.0. This inplace method will never work because the intermediate object on which we are setting values always behaves as a copy.\n",
      "\n",
      "For example, when doing 'df[col].method(value, inplace=True)', try using 'df.method({col: value}, inplace=True)' or df[col] = df[col].method(value) instead, to perform the operation inplace on the original object.\n",
      "\n",
      "\n",
      "  sal['EmployeeName'].replace('Not provided','NaN',inplace=True)\n"
     ]
    }
   ],
   "source": [
    "sal['EmployeeName'].replace('Not provided','NaN',inplace=True)"
   ]
  },
  {
   "cell_type": "code",
   "execution_count": 23,
   "id": "1d38591b-7026-437c-b96d-03aab2bd82e1",
   "metadata": {},
   "outputs": [
    {
     "data": {
      "text/plain": [
       "0            NATHANIEL FORD\n",
       "1              GARY JIMENEZ\n",
       "2            ALBERT PARDINI\n",
       "3         CHRISTOPHER CHONG\n",
       "4           PATRICK GARDNER\n",
       "                ...        \n",
       "148649        Roy I Tillery\n",
       "148650                  NaN\n",
       "148651                  NaN\n",
       "148652                  NaN\n",
       "148653            Joe Lopez\n",
       "Name: EmployeeName, Length: 148654, dtype: object"
      ]
     },
     "execution_count": 23,
     "metadata": {},
     "output_type": "execute_result"
    }
   ],
   "source": [
    "sal['EmployeeName']"
   ]
  },
  {
   "cell_type": "markdown",
   "id": "662418f9-0e3a-4a75-8b38-bd13eb31f7be",
   "metadata": {},
   "source": [
    "#### 8. Albert Pardini job title "
   ]
  },
  {
   "cell_type": "code",
   "execution_count": 24,
   "id": "5e564e30-9de5-4a69-a84a-7fe821768a55",
   "metadata": {},
   "outputs": [
    {
     "name": "stdout",
     "output_type": "stream",
     "text": [
      "ALBERT PARDINI job title is CAPTAIN III (POLICE DEPARTMENT)\n"
     ]
    }
   ],
   "source": [
    "sal[sal['EmployeeName']=='ALBERT PARDINI']['JobTitle'].values[0]\n",
    "print('ALBERT PARDINI job title is',sal[sal['EmployeeName']=='ALBERT PARDINI']['JobTitle'].values[0])"
   ]
  },
  {
   "cell_type": "markdown",
   "id": "00038444-888d-43db-872f-9f3d04a0d9f9",
   "metadata": {},
   "source": [
    "#### 9.Albert Pardini gross income"
   ]
  },
  {
   "cell_type": "code",
   "execution_count": 25,
   "id": "2ebafce7-f307-4089-aa09-165a5ee5ae2d",
   "metadata": {},
   "outputs": [
    {
     "name": "stdout",
     "output_type": "stream",
     "text": [
      "ALBERT PARDINI totalpaybenefits is $ 335,279.91\n"
     ]
    }
   ],
   "source": [
    "sal[sal['EmployeeName']=='ALBERT PARDINI']['TotalPayBenefits'].values[0]\n",
    "APT=\"{:,}\".format(sal[sal['EmployeeName']=='ALBERT PARDINI']['TotalPayBenefits'].values[0])\n",
    "print('ALBERT PARDINI totalpaybenefits is $',APT)"
   ]
  },
  {
   "cell_type": "markdown",
   "id": "5aeddf3e-62c9-4140-a9d2-c79088712473",
   "metadata": {},
   "source": [
    "#### 10. Highest Basepay "
   ]
  },
  {
   "cell_type": "code",
   "execution_count": 26,
   "id": "cba2171a-3ba1-4daf-afab-8cfc58148e3b",
   "metadata": {},
   "outputs": [
    {
     "name": "stdout",
     "output_type": "stream",
     "text": [
      "Gregory P Suhr is the employee with the highest basepay\n"
     ]
    }
   ],
   "source": [
    "sal.loc[sal['BasePay'].idxmax(), 'EmployeeName']\n",
    "print(sal.loc[sal['BasePay'].idxmax(), 'EmployeeName'], 'is the employee with the highest basepay')"
   ]
  },
  {
   "cell_type": "markdown",
   "id": "134f8886-ec46-47fb-8ffa-6e0e5c1db14a",
   "metadata": {},
   "source": [
    "#### 11. Employees avg basepay per year"
   ]
  },
  {
   "cell_type": "code",
   "execution_count": 27,
   "id": "90718a3e-a864-4967-a372-9f0f8c7e3d36",
   "metadata": {},
   "outputs": [
    {
     "name": "stdout",
     "output_type": "stream",
     "text": [
      "Year\n",
      "2011    63595.96\n",
      "2012    65436.41\n",
      "2013    69576.87\n",
      "2014    66564.40\n",
      "Name: BasePay, dtype: float64\n"
     ]
    },
    {
     "data": {
      "image/png": "[encoded data removed]",
      "text/plain": [
       "<Figure size 640x480 with 1 Axes>"
      ]
     },
     "metadata": {},
     "output_type": "display_data"
    }
   ],
   "source": [
    "EAV=round(sal.groupby('Year')['BasePay'].mean(),2)\n",
    "print(EAV)\n",
    "sns.barplot(x='Year',y='BasePay',data=sal)\n",
    "plt.title('Average Basepay per Year')\n",
    "plt.xlabel('Year')\n",
    "plt.ylabel('Avg. Basepay')\n",
    "plt.show()"
   ]
  },
  {
   "cell_type": "markdown",
   "id": "fff75492-a750-49de-8354-b3aa827e7efa",
   "metadata": {},
   "source": [
    "#### 12. Average Basepay per job title"
   ]
  },
  {
   "cell_type": "code",
   "execution_count": 28,
   "id": "5969b31f-53a4-4fa5-8a26-6a8ddab77faf",
   "metadata": {},
   "outputs": [
    {
     "data": {
      "text/plain": [
       "JobTitle\n",
       "ACCOUNT CLERK                                     43300.81\n",
       "ACCOUNTANT                                        46643.17\n",
       "ACCOUNTANT INTERN                                 28732.66\n",
       "ACPO,JuvP, Juv Prob (SFERS)                       62290.78\n",
       "ACUPUNCTURIST                                     66374.40\n",
       "                                                    ...   \n",
       "X-RAY LABORATORY AIDE                             47664.77\n",
       "X-Ray Laboratory Aide                             46086.39\n",
       "YOUTH COMMISSION ADVISOR, BOARD OF SUPERVISORS    52609.91\n",
       "Youth Comm Advisor                                39077.96\n",
       "ZOO CURATOR                                       43148.00\n",
       "Name: BasePay, Length: 2159, dtype: float64"
      ]
     },
     "execution_count": 28,
     "metadata": {},
     "output_type": "execute_result"
    }
   ],
   "source": [
    "Avg_basepay_jt=round(sal.groupby('JobTitle')['BasePay'].mean(),2)\n",
    "Avg_basepay_jt"
   ]
  },
  {
   "cell_type": "markdown",
   "id": "c6c5576d-3d04-49a0-bc30-f954564129fa",
   "metadata": {},
   "source": [
    "#### 13.Avg Basepay of Accountant"
   ]
  },
  {
   "cell_type": "code",
   "execution_count": 29,
   "id": "d36caf0b-bb95-411b-be54-87ffa13aaaea",
   "metadata": {},
   "outputs": [
    {
     "name": "stdout",
     "output_type": "stream",
     "text": [
      "The average basepay of an accountant is $ 72,233.85\n"
     ]
    }
   ],
   "source": [
    "acct_avg_basepay= \"{:,}\".format(round(sal[sal['JobTitle'].str.contains('accountant',case=False)]['BasePay'].mean(),2))\n",
    "print('The average basepay of an accountant is $',acct_avg_basepay)"
   ]
  },
  {
   "cell_type": "markdown",
   "id": "d8fc3e03-2486-49d1-ad66-fe9acbaff16d",
   "metadata": {},
   "source": [
    "#### 14. Most common job (5)"
   ]
  },
  {
   "cell_type": "code",
   "execution_count": 30,
   "id": "f6ba43cb-5086-4bd1-8564-b4be1861a0c5",
   "metadata": {},
   "outputs": [
    {
     "data": {
      "text/plain": [
       "JobTitle\n",
       "Transit Operator                7036\n",
       "Special Nurse                   4389\n",
       "Registered Nurse                3736\n",
       "Public Svc Aide-Public Works    2518\n",
       "Police Officer 3                2421\n",
       "Name: count, dtype: int64"
      ]
     },
     "execution_count": 30,
     "metadata": {},
     "output_type": "execute_result"
    }
   ],
   "source": [
    "sal['JobTitle'].value_counts().head(5)"
   ]
  },
  {
   "cell_type": "code",
   "execution_count": null,
   "id": "29a96501-752b-4282-908c-8a2d7f270e2f",
   "metadata": {},
   "outputs": [],
   "source": []
  }
 ],
 "metadata": {
  "kernelspec": {
   "display_name": "Python 3 (ipykernel)",
   "language": "python",
   "name": "python3"
  },
  "language_info": {
   "codemirror_mode": {
    "name": "ipython",
    "version": 3
   },
   "file_extension": ".py",
   "mimetype": "text/x-python",
   "name": "python",
   "nbconvert_exporter": "python",
   "pygments_lexer": "ipython3",
   "version": "3.12.4"
  }
 },
 "nbformat": 4,
 "nbformat_minor": 5
}
